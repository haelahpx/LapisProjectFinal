{
 "cells": [
  {
   "cell_type": "code",
   "execution_count": null,
   "id": "54790d69",
   "metadata": {},
   "outputs": [],
   "source": [
    "from ultralytics import YOLO\n",
    "import torch\n",
    "\n",
    "\n",
    "\"\"\" \n",
    "use cuda for using gpu \n",
    "\"\"\"\n",
    "print(torch.cuda.is_available())\n",
    "print(torch.cuda.get_device_name(0))\n",
    "\n",
    "\n",
    "model = YOLO(\"yolov8n.pt\")  \n",
    "model.train(\n",
    "    data=\"datasets/UA-DETRAC16/data.yaml\",\n",
    "    epochs=50,\n",
    "    imgsz=640,\n",
    "    batch=8,\n",
    "    project=\"vehicle_detection_project\",\n",
    "    name=\"vehicle_model(detrac-16)\",\n",
    "    exist_ok=True,\n",
    "    patience=10  # <- early stopping\n",
    ")\n",
    "\n"
   ]
  }
 ],
 "metadata": {
  "language_info": {
   "name": "python"
  }
 },
 "nbformat": 4,
 "nbformat_minor": 5
}
